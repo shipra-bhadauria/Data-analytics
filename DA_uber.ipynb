{
  "nbformat": 4,
  "nbformat_minor": 0,
  "metadata": {
    "colab": {
      "name": "DA_uber.ipynb",
      "provenance": []
    },
    "kernelspec": {
      "name": "python3",
      "display_name": "Python 3"
    },
    "accelerator": "GPU"
  },
  "cells": [
    {
      "cell_type": "code",
      "metadata": {
        "id": "blGYSofuKNxZ"
      },
      "source": [
        "import pandas as pd\r\n",
        "import matplotlib.pyplot as plt\r\n",
        "import numpy as np\r\n",
        "import seaborn as sns"
      ],
      "execution_count": 1,
      "outputs": []
    },
    {
      "cell_type": "code",
      "metadata": {
        "colab": {
          "base_uri": "https://localhost:8080/",
          "height": 204
        },
        "id": "IrBEXDhFLD8s",
        "outputId": "27679b30-ec56-4058-9c3d-901a803a663c"
      },
      "source": [
        "df_april=pd.read_csv('uber-raw-data-apr14.csv')\r\n",
        "df_april.head()"
      ],
      "execution_count": 2,
      "outputs": [
        {
          "output_type": "execute_result",
          "data": {
            "text/html": [
              "<div>\n",
              "<style scoped>\n",
              "    .dataframe tbody tr th:only-of-type {\n",
              "        vertical-align: middle;\n",
              "    }\n",
              "\n",
              "    .dataframe tbody tr th {\n",
              "        vertical-align: top;\n",
              "    }\n",
              "\n",
              "    .dataframe thead th {\n",
              "        text-align: right;\n",
              "    }\n",
              "</style>\n",
              "<table border=\"1\" class=\"dataframe\">\n",
              "  <thead>\n",
              "    <tr style=\"text-align: right;\">\n",
              "      <th></th>\n",
              "      <th>Date/Time</th>\n",
              "      <th>Lat</th>\n",
              "      <th>Lon</th>\n",
              "      <th>Base</th>\n",
              "    </tr>\n",
              "  </thead>\n",
              "  <tbody>\n",
              "    <tr>\n",
              "      <th>0</th>\n",
              "      <td>04-01-2014 00:11</td>\n",
              "      <td>40.7690</td>\n",
              "      <td>-73.9549</td>\n",
              "      <td>B02512</td>\n",
              "    </tr>\n",
              "    <tr>\n",
              "      <th>1</th>\n",
              "      <td>04-01-2014 00:17</td>\n",
              "      <td>40.7267</td>\n",
              "      <td>-74.0345</td>\n",
              "      <td>B02512</td>\n",
              "    </tr>\n",
              "    <tr>\n",
              "      <th>2</th>\n",
              "      <td>04-01-2014 00:21</td>\n",
              "      <td>40.7316</td>\n",
              "      <td>-73.9873</td>\n",
              "      <td>B02512</td>\n",
              "    </tr>\n",
              "    <tr>\n",
              "      <th>3</th>\n",
              "      <td>04-01-2014 00:28</td>\n",
              "      <td>40.7588</td>\n",
              "      <td>-73.9776</td>\n",
              "      <td>B02512</td>\n",
              "    </tr>\n",
              "    <tr>\n",
              "      <th>4</th>\n",
              "      <td>04-01-2014 00:33</td>\n",
              "      <td>40.7594</td>\n",
              "      <td>-73.9722</td>\n",
              "      <td>B02512</td>\n",
              "    </tr>\n",
              "  </tbody>\n",
              "</table>\n",
              "</div>"
            ],
            "text/plain": [
              "          Date/Time      Lat      Lon    Base\n",
              "0  04-01-2014 00:11  40.7690 -73.9549  B02512\n",
              "1  04-01-2014 00:17  40.7267 -74.0345  B02512\n",
              "2  04-01-2014 00:21  40.7316 -73.9873  B02512\n",
              "3  04-01-2014 00:28  40.7588 -73.9776  B02512\n",
              "4  04-01-2014 00:33  40.7594 -73.9722  B02512"
            ]
          },
          "metadata": {
            "tags": []
          },
          "execution_count": 2
        }
      ]
    },
    {
      "cell_type": "code",
      "metadata": {
        "colab": {
          "base_uri": "https://localhost:8080/",
          "height": 204
        },
        "id": "LR87finmPQCB",
        "outputId": "b3d5dd73-bf77-4c6b-f6fa-524ba1cf4438"
      },
      "source": [
        "df_may=pd.read_csv('uber-raw-data-may14.csv')\r\n",
        "df_may.head()"
      ],
      "execution_count": 5,
      "outputs": [
        {
          "output_type": "execute_result",
          "data": {
            "text/html": [
              "<div>\n",
              "<style scoped>\n",
              "    .dataframe tbody tr th:only-of-type {\n",
              "        vertical-align: middle;\n",
              "    }\n",
              "\n",
              "    .dataframe tbody tr th {\n",
              "        vertical-align: top;\n",
              "    }\n",
              "\n",
              "    .dataframe thead th {\n",
              "        text-align: right;\n",
              "    }\n",
              "</style>\n",
              "<table border=\"1\" class=\"dataframe\">\n",
              "  <thead>\n",
              "    <tr style=\"text-align: right;\">\n",
              "      <th></th>\n",
              "      <th>Date/Time</th>\n",
              "      <th>Lat</th>\n",
              "      <th>Lon</th>\n",
              "      <th>Base</th>\n",
              "    </tr>\n",
              "  </thead>\n",
              "  <tbody>\n",
              "    <tr>\n",
              "      <th>0</th>\n",
              "      <td>5/1/2014 0:02:00</td>\n",
              "      <td>40.7521</td>\n",
              "      <td>-73.9914</td>\n",
              "      <td>B02512</td>\n",
              "    </tr>\n",
              "    <tr>\n",
              "      <th>1</th>\n",
              "      <td>5/1/2014 0:06:00</td>\n",
              "      <td>40.6965</td>\n",
              "      <td>-73.9715</td>\n",
              "      <td>B02512</td>\n",
              "    </tr>\n",
              "    <tr>\n",
              "      <th>2</th>\n",
              "      <td>5/1/2014 0:15:00</td>\n",
              "      <td>40.7464</td>\n",
              "      <td>-73.9838</td>\n",
              "      <td>B02512</td>\n",
              "    </tr>\n",
              "    <tr>\n",
              "      <th>3</th>\n",
              "      <td>5/1/2014 0:17:00</td>\n",
              "      <td>40.7463</td>\n",
              "      <td>-74.0011</td>\n",
              "      <td>B02512</td>\n",
              "    </tr>\n",
              "    <tr>\n",
              "      <th>4</th>\n",
              "      <td>5/1/2014 0:17:00</td>\n",
              "      <td>40.7594</td>\n",
              "      <td>-73.9734</td>\n",
              "      <td>B02512</td>\n",
              "    </tr>\n",
              "  </tbody>\n",
              "</table>\n",
              "</div>"
            ],
            "text/plain": [
              "          Date/Time      Lat      Lon    Base\n",
              "0  5/1/2014 0:02:00  40.7521 -73.9914  B02512\n",
              "1  5/1/2014 0:06:00  40.6965 -73.9715  B02512\n",
              "2  5/1/2014 0:15:00  40.7464 -73.9838  B02512\n",
              "3  5/1/2014 0:17:00  40.7463 -74.0011  B02512\n",
              "4  5/1/2014 0:17:00  40.7594 -73.9734  B02512"
            ]
          },
          "metadata": {
            "tags": []
          },
          "execution_count": 5
        }
      ]
    },
    {
      "cell_type": "code",
      "metadata": {
        "colab": {
          "base_uri": "https://localhost:8080/",
          "height": 204
        },
        "id": "fyPp4nthPUBs",
        "outputId": "981983eb-ba61-449e-aa59-9775b10e9b91"
      },
      "source": [
        "df_jun=pd.read_csv('uber-raw-data-jun14.csv')\r\n",
        "df_jun.head()"
      ],
      "execution_count": 14,
      "outputs": [
        {
          "output_type": "execute_result",
          "data": {
            "text/html": [
              "<div>\n",
              "<style scoped>\n",
              "    .dataframe tbody tr th:only-of-type {\n",
              "        vertical-align: middle;\n",
              "    }\n",
              "\n",
              "    .dataframe tbody tr th {\n",
              "        vertical-align: top;\n",
              "    }\n",
              "\n",
              "    .dataframe thead th {\n",
              "        text-align: right;\n",
              "    }\n",
              "</style>\n",
              "<table border=\"1\" class=\"dataframe\">\n",
              "  <thead>\n",
              "    <tr style=\"text-align: right;\">\n",
              "      <th></th>\n",
              "      <th>Date/Time</th>\n",
              "      <th>Lat</th>\n",
              "      <th>Lon</th>\n",
              "      <th>Base</th>\n",
              "    </tr>\n",
              "  </thead>\n",
              "  <tbody>\n",
              "    <tr>\n",
              "      <th>0</th>\n",
              "      <td>6/1/2014 0:00:00</td>\n",
              "      <td>40.7293</td>\n",
              "      <td>-73.9920</td>\n",
              "      <td>B02512</td>\n",
              "    </tr>\n",
              "    <tr>\n",
              "      <th>1</th>\n",
              "      <td>6/1/2014 0:01:00</td>\n",
              "      <td>40.7131</td>\n",
              "      <td>-74.0097</td>\n",
              "      <td>B02512</td>\n",
              "    </tr>\n",
              "    <tr>\n",
              "      <th>2</th>\n",
              "      <td>6/1/2014 0:04:00</td>\n",
              "      <td>40.3461</td>\n",
              "      <td>-74.6610</td>\n",
              "      <td>B02512</td>\n",
              "    </tr>\n",
              "    <tr>\n",
              "      <th>3</th>\n",
              "      <td>6/1/2014 0:04:00</td>\n",
              "      <td>40.7555</td>\n",
              "      <td>-73.9833</td>\n",
              "      <td>B02512</td>\n",
              "    </tr>\n",
              "    <tr>\n",
              "      <th>4</th>\n",
              "      <td>6/1/2014 0:07:00</td>\n",
              "      <td>40.6880</td>\n",
              "      <td>-74.1831</td>\n",
              "      <td>B02512</td>\n",
              "    </tr>\n",
              "  </tbody>\n",
              "</table>\n",
              "</div>"
            ],
            "text/plain": [
              "          Date/Time      Lat      Lon    Base\n",
              "0  6/1/2014 0:00:00  40.7293 -73.9920  B02512\n",
              "1  6/1/2014 0:01:00  40.7131 -74.0097  B02512\n",
              "2  6/1/2014 0:04:00  40.3461 -74.6610  B02512\n",
              "3  6/1/2014 0:04:00  40.7555 -73.9833  B02512\n",
              "4  6/1/2014 0:07:00  40.6880 -74.1831  B02512"
            ]
          },
          "metadata": {
            "tags": []
          },
          "execution_count": 14
        }
      ]
    },
    {
      "cell_type": "code",
      "metadata": {
        "colab": {
          "base_uri": "https://localhost:8080/",
          "height": 204
        },
        "id": "t3u-IeubPclD",
        "outputId": "d9d2449e-c942-48ba-8f52-9f6e2c34209c"
      },
      "source": [
        "df_jul=pd.read_csv('uber-raw-data-jul14.csv')\r\n",
        "df_jul.head()"
      ],
      "execution_count": 16,
      "outputs": [
        {
          "output_type": "execute_result",
          "data": {
            "text/html": [
              "<div>\n",
              "<style scoped>\n",
              "    .dataframe tbody tr th:only-of-type {\n",
              "        vertical-align: middle;\n",
              "    }\n",
              "\n",
              "    .dataframe tbody tr th {\n",
              "        vertical-align: top;\n",
              "    }\n",
              "\n",
              "    .dataframe thead th {\n",
              "        text-align: right;\n",
              "    }\n",
              "</style>\n",
              "<table border=\"1\" class=\"dataframe\">\n",
              "  <thead>\n",
              "    <tr style=\"text-align: right;\">\n",
              "      <th></th>\n",
              "      <th>Date/Time</th>\n",
              "      <th>Lat</th>\n",
              "      <th>Lon</th>\n",
              "      <th>Base</th>\n",
              "    </tr>\n",
              "  </thead>\n",
              "  <tbody>\n",
              "    <tr>\n",
              "      <th>0</th>\n",
              "      <td>7/1/2014 0:03:00</td>\n",
              "      <td>40.7586</td>\n",
              "      <td>-73.9706</td>\n",
              "      <td>B02512</td>\n",
              "    </tr>\n",
              "    <tr>\n",
              "      <th>1</th>\n",
              "      <td>7/1/2014 0:05:00</td>\n",
              "      <td>40.7605</td>\n",
              "      <td>-73.9994</td>\n",
              "      <td>B02512</td>\n",
              "    </tr>\n",
              "    <tr>\n",
              "      <th>2</th>\n",
              "      <td>7/1/2014 0:06:00</td>\n",
              "      <td>40.7320</td>\n",
              "      <td>-73.9999</td>\n",
              "      <td>B02512</td>\n",
              "    </tr>\n",
              "    <tr>\n",
              "      <th>3</th>\n",
              "      <td>7/1/2014 0:09:00</td>\n",
              "      <td>40.7635</td>\n",
              "      <td>-73.9793</td>\n",
              "      <td>B02512</td>\n",
              "    </tr>\n",
              "    <tr>\n",
              "      <th>4</th>\n",
              "      <td>7/1/2014 0:20:00</td>\n",
              "      <td>40.7204</td>\n",
              "      <td>-74.0047</td>\n",
              "      <td>B02512</td>\n",
              "    </tr>\n",
              "  </tbody>\n",
              "</table>\n",
              "</div>"
            ],
            "text/plain": [
              "          Date/Time      Lat      Lon    Base\n",
              "0  7/1/2014 0:03:00  40.7586 -73.9706  B02512\n",
              "1  7/1/2014 0:05:00  40.7605 -73.9994  B02512\n",
              "2  7/1/2014 0:06:00  40.7320 -73.9999  B02512\n",
              "3  7/1/2014 0:09:00  40.7635 -73.9793  B02512\n",
              "4  7/1/2014 0:20:00  40.7204 -74.0047  B02512"
            ]
          },
          "metadata": {
            "tags": []
          },
          "execution_count": 16
        }
      ]
    },
    {
      "cell_type": "code",
      "metadata": {
        "colab": {
          "base_uri": "https://localhost:8080/",
          "height": 204
        },
        "id": "UhJSZs9OPfC9",
        "outputId": "ddef6981-88c2-445b-859c-604b47f4be7c"
      },
      "source": [
        "df_aug=pd.read_csv('uber-raw-data-aug14.csv')\r\n",
        "df_aug.head()"
      ],
      "execution_count": 22,
      "outputs": [
        {
          "output_type": "execute_result",
          "data": {
            "text/html": [
              "<div>\n",
              "<style scoped>\n",
              "    .dataframe tbody tr th:only-of-type {\n",
              "        vertical-align: middle;\n",
              "    }\n",
              "\n",
              "    .dataframe tbody tr th {\n",
              "        vertical-align: top;\n",
              "    }\n",
              "\n",
              "    .dataframe thead th {\n",
              "        text-align: right;\n",
              "    }\n",
              "</style>\n",
              "<table border=\"1\" class=\"dataframe\">\n",
              "  <thead>\n",
              "    <tr style=\"text-align: right;\">\n",
              "      <th></th>\n",
              "      <th>.753</th>\n",
              "      <th>-74.0039</th>\n",
              "      <th>B02617</th>\n",
              "    </tr>\n",
              "  </thead>\n",
              "  <tbody>\n",
              "    <tr>\n",
              "      <th>8/15/2014 19:40:00</th>\n",
              "      <td>40.7599</td>\n",
              "      <td>-73.9964</td>\n",
              "      <td>B02617</td>\n",
              "    </tr>\n",
              "    <tr>\n",
              "      <th>8/15/2014 19:40:00</th>\n",
              "      <td>40.7204</td>\n",
              "      <td>-73.9633</td>\n",
              "      <td>B02617</td>\n",
              "    </tr>\n",
              "    <tr>\n",
              "      <th>8/15/2014 19:40:00</th>\n",
              "      <td>40.7631</td>\n",
              "      <td>-73.9683</td>\n",
              "      <td>B02617</td>\n",
              "    </tr>\n",
              "    <tr>\n",
              "      <th>8/15/2014 19:40:00</th>\n",
              "      <td>40.7279</td>\n",
              "      <td>-73.9493</td>\n",
              "      <td>B02617</td>\n",
              "    </tr>\n",
              "    <tr>\n",
              "      <th>8/15/2014 19:40:00</th>\n",
              "      <td>40.7341</td>\n",
              "      <td>-73.9879</td>\n",
              "      <td>B02617</td>\n",
              "    </tr>\n",
              "  </tbody>\n",
              "</table>\n",
              "</div>"
            ],
            "text/plain": [
              "                       .753  -74.0039  B02617\n",
              "8/15/2014 19:40:00  40.7599  -73.9964  B02617\n",
              "8/15/2014 19:40:00  40.7204  -73.9633  B02617\n",
              "8/15/2014 19:40:00  40.7631  -73.9683  B02617\n",
              "8/15/2014 19:40:00  40.7279  -73.9493  B02617\n",
              "8/15/2014 19:40:00  40.7341  -73.9879  B02617"
            ]
          },
          "metadata": {
            "tags": []
          },
          "execution_count": 22
        }
      ]
    },
    {
      "cell_type": "code",
      "metadata": {
        "colab": {
          "base_uri": "https://localhost:8080/",
          "height": 204
        },
        "id": "xI_QaUmnPhmW",
        "outputId": "d03f695e-1b9f-430c-bb19-d186767ed37a"
      },
      "source": [
        "df_sep=pd.read_csv('uber-raw-data-sep14.csv')\r\n",
        "df_sep.head()"
      ],
      "execution_count": 23,
      "outputs": [
        {
          "output_type": "execute_result",
          "data": {
            "text/html": [
              "<div>\n",
              "<style scoped>\n",
              "    .dataframe tbody tr th:only-of-type {\n",
              "        vertical-align: middle;\n",
              "    }\n",
              "\n",
              "    .dataframe tbody tr th {\n",
              "        vertical-align: top;\n",
              "    }\n",
              "\n",
              "    .dataframe thead th {\n",
              "        text-align: right;\n",
              "    }\n",
              "</style>\n",
              "<table border=\"1\" class=\"dataframe\">\n",
              "  <thead>\n",
              "    <tr style=\"text-align: right;\">\n",
              "      <th></th>\n",
              "      <th>Date/Time</th>\n",
              "      <th>Lat</th>\n",
              "      <th>Lon</th>\n",
              "      <th>Base</th>\n",
              "    </tr>\n",
              "  </thead>\n",
              "  <tbody>\n",
              "    <tr>\n",
              "      <th>0</th>\n",
              "      <td>9/1/2014 0:01:00</td>\n",
              "      <td>40.2201</td>\n",
              "      <td>-74.0021</td>\n",
              "      <td>B02512</td>\n",
              "    </tr>\n",
              "    <tr>\n",
              "      <th>1</th>\n",
              "      <td>9/1/2014 0:01:00</td>\n",
              "      <td>40.7500</td>\n",
              "      <td>-74.0027</td>\n",
              "      <td>B02512</td>\n",
              "    </tr>\n",
              "    <tr>\n",
              "      <th>2</th>\n",
              "      <td>9/1/2014 0:03:00</td>\n",
              "      <td>40.7559</td>\n",
              "      <td>-73.9864</td>\n",
              "      <td>B02512</td>\n",
              "    </tr>\n",
              "    <tr>\n",
              "      <th>3</th>\n",
              "      <td>9/1/2014 0:06:00</td>\n",
              "      <td>40.7450</td>\n",
              "      <td>-73.9889</td>\n",
              "      <td>B02512</td>\n",
              "    </tr>\n",
              "    <tr>\n",
              "      <th>4</th>\n",
              "      <td>9/1/2014 0:11:00</td>\n",
              "      <td>40.8145</td>\n",
              "      <td>-73.9444</td>\n",
              "      <td>B02512</td>\n",
              "    </tr>\n",
              "  </tbody>\n",
              "</table>\n",
              "</div>"
            ],
            "text/plain": [
              "          Date/Time      Lat      Lon    Base\n",
              "0  9/1/2014 0:01:00  40.2201 -74.0021  B02512\n",
              "1  9/1/2014 0:01:00  40.7500 -74.0027  B02512\n",
              "2  9/1/2014 0:03:00  40.7559 -73.9864  B02512\n",
              "3  9/1/2014 0:06:00  40.7450 -73.9889  B02512\n",
              "4  9/1/2014 0:11:00  40.8145 -73.9444  B02512"
            ]
          },
          "metadata": {
            "tags": []
          },
          "execution_count": 23
        }
      ]
    },
    {
      "cell_type": "markdown",
      "metadata": {
        "id": "M415GVMdPukm"
      },
      "source": [
        "1. Number of rides as per the day."
      ]
    },
    {
      "cell_type": "code",
      "metadata": {
        "id": "7DpquBPjPvz0"
      },
      "source": [
        "def rides_per_day(df):\r\n",
        "    df['Date/Time']=pd.to_datetime(df['Date/Time'])\r\n",
        "    df['Date']=df['Date/Time'].apply(lambda time:time.strftime(\"%d-%m-%Y\"))\r\n",
        "    return df['Date'].sort_values().value_counts()"
      ],
      "execution_count": 10,
      "outputs": []
    },
    {
      "cell_type": "markdown",
      "metadata": {
        "id": "Vjsnv0QvP4Eh"
      },
      "source": [
        "For April Month"
      ]
    },
    {
      "cell_type": "code",
      "metadata": {
        "colab": {
          "base_uri": "https://localhost:8080/"
        },
        "id": "OVTiV7krP0l-",
        "outputId": "fb8cd11f-7915-4993-91aa-fb1aea379fa5"
      },
      "source": [
        "rides_per_day(df_april)"
      ],
      "execution_count": 11,
      "outputs": [
        {
          "output_type": "execute_result",
          "data": {
            "text/plain": [
              "26-04-2014    10886\n",
              "25-04-2014    10766\n",
              "24-04-2014     9626\n",
              "04-04-2014     8978\n",
              "23-04-2014     8484\n",
              "17-04-2014     8291\n",
              "15-04-2014     7718\n",
              "11-04-2014     7575\n",
              "10-04-2014     7335\n",
              "18-04-2014     7107\n",
              "12-04-2014     6995\n",
              "03-04-2014     6981\n",
              "22-04-2014     6974\n",
              "05-04-2014     6817\n",
              "16-04-2014     6786\n",
              "07-04-2014     6712\n",
              "27-04-2014     6443\n",
              "09-04-2014     5979\n",
              "19-04-2014     5933\n",
              "02-04-2014     5862\n",
              "08-04-2014     5804\n",
              "28-04-2014     5758\n",
              "21-04-2014     5336\n",
              "01-04-2014     4749\n",
              "14-04-2014     4743\n",
              "06-04-2014     4648\n",
              "13-04-2014     4586\n",
              "20-04-2014     4289\n",
              "30-04-2014     2186\n",
              "29-04-2014     1487\n",
              "28-04-2020        1\n",
              "Name: Date, dtype: int64"
            ]
          },
          "metadata": {
            "tags": []
          },
          "execution_count": 11
        }
      ]
    },
    {
      "cell_type": "markdown",
      "metadata": {
        "id": "NxYhkKb_QAYu"
      },
      "source": [
        "For May Month"
      ]
    },
    {
      "cell_type": "code",
      "metadata": {
        "colab": {
          "base_uri": "https://localhost:8080/"
        },
        "id": "ok7Ol63lQBZQ",
        "outputId": "7589fdf1-9203-4ea6-8b43-3995f9d533bb"
      },
      "source": [
        "rides_per_day(df_may)"
      ],
      "execution_count": 12,
      "outputs": [
        {
          "output_type": "execute_result",
          "data": {
            "text/plain": [
              "13-09-2014    43205\n",
              "05-09-2014    42319\n",
              "19-09-2014    41017\n",
              "06-09-2014    40520\n",
              "18-09-2014    40274\n",
              "12-09-2014    39540\n",
              "27-09-2014    39468\n",
              "20-09-2014    38864\n",
              "04-09-2014    38360\n",
              "25-09-2014    38203\n",
              "26-09-2014    37504\n",
              "11-09-2014    36439\n",
              "16-09-2014    36092\n",
              "10-09-2014    35910\n",
              "17-09-2014    35531\n",
              "09-09-2014    34560\n",
              "30-09-2014    33431\n",
              "03-09-2014    32631\n",
              "24-09-2014    31301\n",
              "08-09-2014    30360\n",
              "23-09-2014    30316\n",
              "07-09-2014    30134\n",
              "28-09-2014    29656\n",
              "15-09-2014    29454\n",
              "29-09-2014    29201\n",
              "02-09-2014    28831\n",
              "21-09-2014    28620\n",
              "22-09-2014    28312\n",
              "14-09-2014    28122\n",
              "01-09-2014    19961\n",
              "Name: Date, dtype: int64"
            ]
          },
          "metadata": {
            "tags": []
          },
          "execution_count": 12
        }
      ]
    },
    {
      "cell_type": "markdown",
      "metadata": {
        "id": "E7hdpHBdQcKK"
      },
      "source": [
        "for june month"
      ]
    },
    {
      "cell_type": "code",
      "metadata": {
        "colab": {
          "base_uri": "https://localhost:8080/"
        },
        "id": "Sh1ZJdTNQTOS",
        "outputId": "b5afd62a-b645-43a3-abb3-740afd12e36d"
      },
      "source": [
        "rides_per_day(df_jun)"
      ],
      "execution_count": 19,
      "outputs": [
        {
          "output_type": "execute_result",
          "data": {
            "text/plain": [
              "13-06-2014    31207\n",
              "12-06-2014    29844\n",
              "19-06-2014    28594\n",
              "26-06-2014    28516\n",
              "05-06-2014    28371\n",
              "25-06-2014    26460\n",
              "11-06-2014    25716\n",
              "27-06-2014    24895\n",
              "06-06-2014    24683\n",
              "18-06-2014    24647\n",
              "20-06-2014    24271\n",
              "09-06-2014    23244\n",
              "10-06-2014    22874\n",
              "04-06-2014    22831\n",
              "03-06-2014    22674\n",
              "17-06-2014    21807\n",
              "28-06-2014    21208\n",
              "07-06-2014    20889\n",
              "24-06-2014    20779\n",
              "21-06-2014    19940\n",
              "14-06-2014    19327\n",
              "30-06-2014    18395\n",
              "16-06-2014    17778\n",
              "23-06-2014    17735\n",
              "02-06-2014    17503\n",
              "29-06-2014    17107\n",
              "22-06-2014    16322\n",
              "01-06-2014    15967\n",
              "08-06-2014    15749\n",
              "15-06-2014    14511\n",
              "Name: Date, dtype: int64"
            ]
          },
          "metadata": {
            "tags": []
          },
          "execution_count": 19
        }
      ]
    },
    {
      "cell_type": "markdown",
      "metadata": {
        "id": "tzSfZe03Q7qc"
      },
      "source": [
        "for July month"
      ]
    },
    {
      "cell_type": "code",
      "metadata": {
        "colab": {
          "base_uri": "https://localhost:8080/"
        },
        "id": "kDrfrZUSQf5k",
        "outputId": "fab81aa0-19af-4d20-f24f-216b7f6698d1"
      },
      "source": [
        "rides_per_day(df_jul)"
      ],
      "execution_count": 20,
      "outputs": [
        {
          "output_type": "execute_result",
          "data": {
            "text/plain": [
              "23-07-2014    34073\n",
              "15-07-2014    33845\n",
              "31-07-2014    33541\n",
              "24-07-2014    32050\n",
              "30-07-2014    30740\n",
              "17-07-2014    30710\n",
              "10-07-2014    30541\n",
              "25-07-2014    29975\n",
              "18-07-2014    29860\n",
              "22-07-2014    29029\n",
              "11-07-2014    28752\n",
              "16-07-2014    28607\n",
              "09-07-2014    27817\n",
              "26-07-2014    27708\n",
              "29-07-2014    27589\n",
              "14-07-2014    27350\n",
              "02-07-2014    26480\n",
              "12-07-2014    25936\n",
              "08-07-2014    25763\n",
              "19-07-2014    25726\n",
              "28-07-2014    23981\n",
              "21-07-2014    23578\n",
              "27-07-2014    22590\n",
              "03-07-2014    21597\n",
              "01-07-2014    21228\n",
              "20-07-2014    21212\n",
              "13-07-2014    21082\n",
              "07-07-2014    18280\n",
              "04-07-2014    14148\n",
              "06-07-2014    11443\n",
              "05-07-2014    10890\n",
              "Name: Date, dtype: int64"
            ]
          },
          "metadata": {
            "tags": []
          },
          "execution_count": 20
        }
      ]
    },
    {
      "cell_type": "markdown",
      "metadata": {
        "id": "nVn6JH_lRN9m"
      },
      "source": [
        "for September month"
      ]
    },
    {
      "cell_type": "code",
      "metadata": {
        "colab": {
          "base_uri": "https://localhost:8080/"
        },
        "id": "p6256JmoRWbA",
        "outputId": "a42fd209-edd6-46ed-fa76-26c93959c2c4"
      },
      "source": [
        "rides_per_day(df_sep)"
      ],
      "execution_count": 25,
      "outputs": [
        {
          "output_type": "execute_result",
          "data": {
            "text/plain": [
              "13-09-2014    43205\n",
              "05-09-2014    42319\n",
              "19-09-2014    41017\n",
              "06-09-2014    40520\n",
              "18-09-2014    40274\n",
              "12-09-2014    39540\n",
              "27-09-2014    39468\n",
              "20-09-2014    38864\n",
              "04-09-2014    38360\n",
              "25-09-2014    38203\n",
              "26-09-2014    37504\n",
              "11-09-2014    36439\n",
              "16-09-2014    36092\n",
              "10-09-2014    35910\n",
              "17-09-2014    35531\n",
              "09-09-2014    34560\n",
              "30-09-2014    33431\n",
              "03-09-2014    32631\n",
              "24-09-2014    31301\n",
              "08-09-2014    30360\n",
              "23-09-2014    30316\n",
              "07-09-2014    30134\n",
              "28-09-2014    29656\n",
              "15-09-2014    29454\n",
              "29-09-2014    29201\n",
              "02-09-2014    28831\n",
              "21-09-2014    28620\n",
              "22-09-2014    28312\n",
              "14-09-2014    28122\n",
              "01-09-2014    19961\n",
              "Name: Date, dtype: int64"
            ]
          },
          "metadata": {
            "tags": []
          },
          "execution_count": 25
        }
      ]
    },
    {
      "cell_type": "markdown",
      "metadata": {
        "id": "WqjN3VLjR9nG"
      },
      "source": [
        "2. Number of rides per a base."
      ]
    },
    {
      "cell_type": "code",
      "metadata": {
        "colab": {
          "base_uri": "https://localhost:8080/"
        },
        "id": "6nDXrn0TR-tI",
        "outputId": "eca7bfdd-c4ec-4f6c-ed37-a200faaa329e"
      },
      "source": [
        "df_april['Base'].sort_values().value_counts()"
      ],
      "execution_count": 26,
      "outputs": [
        {
          "output_type": "execute_result",
          "data": {
            "text/plain": [
              "B02598    160298\n",
              "B02512     35536\n",
              "Name: Base, dtype: int64"
            ]
          },
          "metadata": {
            "tags": []
          },
          "execution_count": 26
        }
      ]
    },
    {
      "cell_type": "code",
      "metadata": {
        "colab": {
          "base_uri": "https://localhost:8080/"
        },
        "id": "fhPpubh7SGSY",
        "outputId": "c34192c6-8551-43b5-938f-10f09561acbb"
      },
      "source": [
        "df_may['Base'].sort_values().value_counts()"
      ],
      "execution_count": 27,
      "outputs": [
        {
          "output_type": "execute_result",
          "data": {
            "text/plain": [
              "B02617    377695\n",
              "B02598    240600\n",
              "B02682    197138\n",
              "B02764    178333\n",
              "B02512     34370\n",
              "Name: Base, dtype: int64"
            ]
          },
          "metadata": {
            "tags": []
          },
          "execution_count": 27
        }
      ]
    },
    {
      "cell_type": "code",
      "metadata": {
        "colab": {
          "base_uri": "https://localhost:8080/"
        },
        "id": "PZ-DjksYSIYB",
        "outputId": "92c81e23-1de4-47f3-c56d-34fea60458bb"
      },
      "source": [
        "df_jun['Base'].sort_values().value_counts()"
      ],
      "execution_count": 29,
      "outputs": [
        {
          "output_type": "execute_result",
          "data": {
            "text/plain": [
              "B02598    242975\n",
              "B02682    194926\n",
              "B02617    184460\n",
              "B02512     32509\n",
              "B02764      8974\n",
              "Name: Base, dtype: int64"
            ]
          },
          "metadata": {
            "tags": []
          },
          "execution_count": 29
        }
      ]
    },
    {
      "cell_type": "code",
      "metadata": {
        "colab": {
          "base_uri": "https://localhost:8080/"
        },
        "id": "25v2_khMSPFm",
        "outputId": "df28957f-493b-4ec4-ece6-fd51f64090b7"
      },
      "source": [
        "df_jul['Base'].sort_values().value_counts()"
      ],
      "execution_count": 30,
      "outputs": [
        {
          "output_type": "execute_result",
          "data": {
            "text/plain": [
              "B02617    310160\n",
              "B02598    245597\n",
              "B02682    196754\n",
              "B02512     35021\n",
              "B02764      8589\n",
              "Name: Base, dtype: int64"
            ]
          },
          "metadata": {
            "tags": []
          },
          "execution_count": 30
        }
      ]
    },
    {
      "cell_type": "code",
      "metadata": {
        "colab": {
          "base_uri": "https://localhost:8080/"
        },
        "id": "67Sb0_WHSYHW",
        "outputId": "1858739c-313e-4125-da90-488242762b46"
      },
      "source": [
        "df_sep['Base'].sort_values().value_counts()"
      ],
      "execution_count": 32,
      "outputs": [
        {
          "output_type": "execute_result",
          "data": {
            "text/plain": [
              "B02617    377695\n",
              "B02598    240600\n",
              "B02682    197138\n",
              "B02764    178333\n",
              "B02512     34370\n",
              "Name: Base, dtype: int64"
            ]
          },
          "metadata": {
            "tags": []
          },
          "execution_count": 32
        }
      ]
    },
    {
      "cell_type": "markdown",
      "metadata": {
        "id": "U5aNBUDaSeYt"
      },
      "source": [
        "3. Total number of rides from April to September."
      ]
    },
    {
      "cell_type": "code",
      "metadata": {
        "id": "-flbzg1ASfP1"
      },
      "source": [
        "def all_info(df):\r\n",
        "    print(df.shape)\r\n",
        "    df.info()"
      ],
      "execution_count": 33,
      "outputs": []
    },
    {
      "cell_type": "code",
      "metadata": {
        "colab": {
          "base_uri": "https://localhost:8080/"
        },
        "id": "vr6LQhjUSl5B",
        "outputId": "9beb117a-653b-4d71-bcbb-1024424d084b"
      },
      "source": [
        "all_info(df_april)"
      ],
      "execution_count": 34,
      "outputs": [
        {
          "output_type": "stream",
          "text": [
            "(195835, 5)\n",
            "<class 'pandas.core.frame.DataFrame'>\n",
            "RangeIndex: 195835 entries, 0 to 195834\n",
            "Data columns (total 5 columns):\n",
            " #   Column     Non-Null Count   Dtype         \n",
            "---  ------     --------------   -----         \n",
            " 0   Date/Time  195835 non-null  datetime64[ns]\n",
            " 1   Lat        195834 non-null  float64       \n",
            " 2   Lon        195834 non-null  float64       \n",
            " 3   Base       195834 non-null  object        \n",
            " 4   Date       195835 non-null  object        \n",
            "dtypes: datetime64[ns](1), float64(2), object(2)\n",
            "memory usage: 7.5+ MB\n"
          ],
          "name": "stdout"
        }
      ]
    },
    {
      "cell_type": "code",
      "metadata": {
        "colab": {
          "base_uri": "https://localhost:8080/"
        },
        "id": "ODzCiPqpSqja",
        "outputId": "288994eb-3a82-45ce-e9bf-df66097be557"
      },
      "source": [
        "all_info(df_may)"
      ],
      "execution_count": 35,
      "outputs": [
        {
          "output_type": "stream",
          "text": [
            "(1028136, 5)\n",
            "<class 'pandas.core.frame.DataFrame'>\n",
            "RangeIndex: 1028136 entries, 0 to 1028135\n",
            "Data columns (total 5 columns):\n",
            " #   Column     Non-Null Count    Dtype         \n",
            "---  ------     --------------    -----         \n",
            " 0   Date/Time  1028136 non-null  datetime64[ns]\n",
            " 1   Lat        1028136 non-null  float64       \n",
            " 2   Lon        1028136 non-null  float64       \n",
            " 3   Base       1028136 non-null  object        \n",
            " 4   Date       1028136 non-null  object        \n",
            "dtypes: datetime64[ns](1), float64(2), object(2)\n",
            "memory usage: 39.2+ MB\n"
          ],
          "name": "stdout"
        }
      ]
    },
    {
      "cell_type": "code",
      "metadata": {
        "colab": {
          "base_uri": "https://localhost:8080/"
        },
        "id": "SswwvtjtSuMC",
        "outputId": "0c267672-9958-4120-ae2f-dd29b61204eb"
      },
      "source": [
        "all_info(df_jun)"
      ],
      "execution_count": 36,
      "outputs": [
        {
          "output_type": "stream",
          "text": [
            "(663844, 5)\n",
            "<class 'pandas.core.frame.DataFrame'>\n",
            "RangeIndex: 663844 entries, 0 to 663843\n",
            "Data columns (total 5 columns):\n",
            " #   Column     Non-Null Count   Dtype         \n",
            "---  ------     --------------   -----         \n",
            " 0   Date/Time  663844 non-null  datetime64[ns]\n",
            " 1   Lat        663844 non-null  float64       \n",
            " 2   Lon        663844 non-null  float64       \n",
            " 3   Base       663844 non-null  object        \n",
            " 4   Date       663844 non-null  object        \n",
            "dtypes: datetime64[ns](1), float64(2), object(2)\n",
            "memory usage: 25.3+ MB\n"
          ],
          "name": "stdout"
        }
      ]
    },
    {
      "cell_type": "code",
      "metadata": {
        "colab": {
          "base_uri": "https://localhost:8080/"
        },
        "id": "WrG2ZdxHSx7I",
        "outputId": "d72aca64-167e-432b-9a63-9d2c6ee19c15"
      },
      "source": [
        "all_info(df_jul)"
      ],
      "execution_count": 37,
      "outputs": [
        {
          "output_type": "stream",
          "text": [
            "(796121, 5)\n",
            "<class 'pandas.core.frame.DataFrame'>\n",
            "RangeIndex: 796121 entries, 0 to 796120\n",
            "Data columns (total 5 columns):\n",
            " #   Column     Non-Null Count   Dtype         \n",
            "---  ------     --------------   -----         \n",
            " 0   Date/Time  796121 non-null  datetime64[ns]\n",
            " 1   Lat        796121 non-null  float64       \n",
            " 2   Lon        796121 non-null  float64       \n",
            " 3   Base       796121 non-null  object        \n",
            " 4   Date       796121 non-null  object        \n",
            "dtypes: datetime64[ns](1), float64(2), object(2)\n",
            "memory usage: 30.4+ MB\n"
          ],
          "name": "stdout"
        }
      ]
    },
    {
      "cell_type": "code",
      "metadata": {
        "colab": {
          "base_uri": "https://localhost:8080/"
        },
        "id": "7UeAzSwjS1Pe",
        "outputId": "6f57f670-7022-4177-b974-b71c88456d31"
      },
      "source": [
        "all_info(df_aug)"
      ],
      "execution_count": 38,
      "outputs": [
        {
          "output_type": "stream",
          "text": [
            "(396907, 3)\n",
            "<class 'pandas.core.frame.DataFrame'>\n",
            "Index: 396907 entries, 8/15/2014 19:40:00 to 8/31/2014 23:59:00\n",
            "Data columns (total 3 columns):\n",
            " #   Column    Non-Null Count   Dtype  \n",
            "---  ------    --------------   -----  \n",
            " 0   .753      396907 non-null  float64\n",
            " 1   -74.0039  396907 non-null  float64\n",
            " 2   B02617    396907 non-null  object \n",
            "dtypes: float64(2), object(1)\n",
            "memory usage: 12.1+ MB\n"
          ],
          "name": "stdout"
        }
      ]
    },
    {
      "cell_type": "code",
      "metadata": {
        "colab": {
          "base_uri": "https://localhost:8080/"
        },
        "id": "PtY8EWhoS4uq",
        "outputId": "7cc9d8fe-a1d6-4451-ae95-30232dae22d3"
      },
      "source": [
        "all_info(df_sep)"
      ],
      "execution_count": 39,
      "outputs": [
        {
          "output_type": "stream",
          "text": [
            "(1028136, 5)\n",
            "<class 'pandas.core.frame.DataFrame'>\n",
            "RangeIndex: 1028136 entries, 0 to 1028135\n",
            "Data columns (total 5 columns):\n",
            " #   Column     Non-Null Count    Dtype         \n",
            "---  ------     --------------    -----         \n",
            " 0   Date/Time  1028136 non-null  datetime64[ns]\n",
            " 1   Lat        1028136 non-null  float64       \n",
            " 2   Lon        1028136 non-null  float64       \n",
            " 3   Base       1028136 non-null  object        \n",
            " 4   Date       1028136 non-null  object        \n",
            "dtypes: datetime64[ns](1), float64(2), object(2)\n",
            "memory usage: 39.2+ MB\n"
          ],
          "name": "stdout"
        }
      ]
    },
    {
      "cell_type": "code",
      "metadata": {
        "id": "iuWXCz3vS-7b"
      },
      "source": [
        "df1=df_april.merge(df_may,how='outer')"
      ],
      "execution_count": 40,
      "outputs": []
    },
    {
      "cell_type": "code",
      "metadata": {
        "id": "Sd40DJyxTGB_"
      },
      "source": [
        "df1=df_april.merge(df_may,how='outer')"
      ],
      "execution_count": 41,
      "outputs": []
    },
    {
      "cell_type": "code",
      "metadata": {
        "id": "UDinRzHOTJha"
      },
      "source": [
        "df1=df1.merge(df_jul,how='outer')"
      ],
      "execution_count": 43,
      "outputs": []
    },
    {
      "cell_type": "code",
      "metadata": {
        "id": "fwPRyIazTW85"
      },
      "source": [
        "df1=df1.merge(df_sep,how='outer')"
      ],
      "execution_count": 45,
      "outputs": []
    },
    {
      "cell_type": "code",
      "metadata": {
        "colab": {
          "base_uri": "https://localhost:8080/"
        },
        "id": "XzxIV29MTdxR",
        "outputId": "5d8223fb-d37f-49da-e664-664c2c465207"
      },
      "source": [
        "df1.shape"
      ],
      "execution_count": 46,
      "outputs": [
        {
          "output_type": "execute_result",
          "data": {
            "text/plain": [
              "(2068434, 5)"
            ]
          },
          "metadata": {
            "tags": []
          },
          "execution_count": 46
        }
      ]
    },
    {
      "cell_type": "code",
      "metadata": {
        "colab": {
          "base_uri": "https://localhost:8080/"
        },
        "id": "gBASyY3NTjJ5",
        "outputId": "9197112e-e982-454c-a66c-6ff9428c3ffb"
      },
      "source": [
        "print('Total number of uber rides from april to september: ',len(df1))"
      ],
      "execution_count": 47,
      "outputs": [
        {
          "output_type": "stream",
          "text": [
            "Total number of uber rides from april to september:  2068434\n"
          ],
          "name": "stdout"
        }
      ]
    },
    {
      "cell_type": "markdown",
      "metadata": {
        "id": "ARdqoQ3yToMo"
      },
      "source": [
        "4. Number of rides per hours."
      ]
    },
    {
      "cell_type": "code",
      "metadata": {
        "colab": {
          "base_uri": "https://localhost:8080/"
        },
        "id": "CKCVedSPTpJB",
        "outputId": "172d7c8b-5be3-4725-e41a-d05f822192dd"
      },
      "source": [
        "df1['Hours']=df1['Date/Time'].apply(lambda date:date.hour)\r\n",
        "df1['Hours'].sort_index().value_counts()"
      ],
      "execution_count": 48,
      "outputs": [
        {
          "output_type": "execute_result",
          "data": {
            "text/plain": [
              "17    151024\n",
              "18    150998\n",
              "19    138817\n",
              "16    138699\n",
              "20    131028\n",
              "21    125726\n",
              "15    122542\n",
              "22    107157\n",
              "14    106227\n",
              "13     91114\n",
              "8      87428\n",
              "7      86154\n",
              "12     78865\n",
              "11     77323\n",
              "23     74841\n",
              "9      74703\n",
              "10     73939\n",
              "6      64549\n",
              "0      47604\n",
              "5      39236\n",
              "1      31274\n",
              "4      25313\n",
              "3      22256\n",
              "2      21617\n",
              "Name: Hours, dtype: int64"
            ]
          },
          "metadata": {
            "tags": []
          },
          "execution_count": 48
        }
      ]
    },
    {
      "cell_type": "markdown",
      "metadata": {
        "id": "XlpYcBz0T0a2"
      },
      "source": [
        "5. Highest number of rides for Base."
      ]
    },
    {
      "cell_type": "code",
      "metadata": {
        "colab": {
          "base_uri": "https://localhost:8080/"
        },
        "id": "b3fP3rQfUDc9",
        "outputId": "77cf3011-a42a-4f1b-a30f-3684f1c02a6a"
      },
      "source": [
        "print('Base with highest number of rides:',df1['Base'].value_counts().max())"
      ],
      "execution_count": 52,
      "outputs": [
        {
          "output_type": "stream",
          "text": [
            "Base with highest number of rides: 709923\n"
          ],
          "name": "stdout"
        }
      ]
    }
  ]
}